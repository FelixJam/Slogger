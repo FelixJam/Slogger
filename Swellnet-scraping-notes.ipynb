{
 "cells": [
  {
   "cell_type": "markdown",
   "metadata": {},
   "source": [
    "# Swellnet GC Surf Report Scraper"
   ]
  },
  {
   "cell_type": "code",
   "execution_count": 5,
   "metadata": {
    "collapsed": false
   },
   "outputs": [],
   "source": [
    "from bs4 import BeautifulSoup\n",
    "import requests"
   ]
  },
  {
   "cell_type": "code",
   "execution_count": 93,
   "metadata": {
    "collapsed": false
   },
   "outputs": [],
   "source": [
    "response = requests.get(\"http://www.swellnet.com/reports/australia/tasmania/south-arm\")\n",
    "content = response.content"
   ]
  },
  {
   "cell_type": "code",
   "execution_count": 94,
   "metadata": {
    "collapsed": false
   },
   "outputs": [],
   "source": [
    "parser = BeautifulSoup(content, 'html.parser')"
   ]
  },
  {
   "cell_type": "code",
   "execution_count": 12,
   "metadata": {
    "collapsed": false
   },
   "outputs": [
    {
     "name": "stdout",
     "output_type": "stream",
     "text": [
      "<!DOCTYPE html>\n",
      "\n",
      "<!--[if IEMobile 7]><html class=\"iem7\"  lang=\"en\" dir=\"ltr\"><![endif]-->\n",
      "<!--[if lte IE 6]><html class=\"lt-ie9 lt-ie8 lt-ie7\"  lang=\"en\" dir=\"ltr\"><![endif]-->\n",
      "<!--[if (IE 7)&(!IEMobile)]><html class=\"lt-ie9 lt-ie8\"  lang=\"en\" dir=\"ltr\"><![endif]-->\n",
      "<!--[if IE 8]><html class=\"lt-ie9\"  lang=\"en\" dir=\"ltr\"><![endif]-->\n",
      "<!--[if (gte IE 9)|(gt IEMobile 7)]><!--><html dir=\"ltr\" lang=\"en\"><!--<![endif]-->\n",
      "<head profile=\"http://www.w3.org/1999/xhtml/vocab\">\n",
      "<meta charset=\"utf-8\"/>\n",
      "<link href=\"http://www.swellnet.com/profiles/swellnet/themes/swellzen/favicon.ico\" rel=\"shortcut icon\" type=\"image/vnd.microsoft.icon\"/>\n",
      "<link href=\"http://www.swellnet.com/reports/australia/queensland/gold-coast\" rel=\"canonical\"/>\n",
      "<script>var _sf_startpt=(new Date()).getTime();</script>\n",
      "<meta content=\"Drupal 7 (http://drupal.org)\" name=\"Generator\"/>\n",
      "<title>Gold Coast Detailed Surf Report, Surf Photos, Live Winds, Tides and Weather | Swellnet</title>\n",
      "<meta content=\"width\" name=\"MobileOptimized\">\n",
      "<meta content=\"true\" name=\"HandheldFriendly\">\n",
      "<meta content=\"width=device-width, initial-scale=1\" name=\"viewport\">\n",
      "<meta content=\"on\" http-equiv=\"cleartype\">\n",
      "<link href=\"http://www.swellnet.com/sites/default/files/css/css_kShW4RPmRstZ3SpIC-ZvVGNFVAi0WEMuCnI0ZkYIaFw.css\" media=\"all\" rel=\"stylesheet\" type=\"text/css\"/>\n",
      "<link href=\"http://www.swellnet.com/sites/default/files/css/css_QnDqumlAmBiA-LkPKOOEj-wMlRQlYuHQdMmPGFs03GQ.css\" media=\"all\" rel=\"stylesheet\" type=\"text/css\"/>\n",
      "<link href=\"http://www.swellnet.com/sites/default/files/css/css_4DIoYbisqPpzxTYG-0GAlyMLG2v07ktQmbd0Sqg3tec.css\" media=\"all\" rel=\"stylesheet\" type=\"text/css\"/>\n",
      "<link href=\"http://www.swellnet.com/sites/default/files/css/css_J7V1vEUW0UYrQjKgJoEUjpSykKGrObqsxy9LI05iXPM.css\" media=\"all\" rel=\"stylesheet\" type=\"text/css\"/>\n",
      "<link href=\"http://www.swellnet.com/sites/default/files/css/css_Ri2FH9Ch-zGPzCuNQE4HpUyoP35huV2jIp99X5aKHSQ.css\" media=\"all\" rel=\"stylesheet\" type=\"text/css\"/>\n",
      "<script src=\"http://www.swellnet.com/sites/default/files/js/js_MG2mAeTPw6UhklY_SgV9St7ugWHPu3aFJezoNDTlCOA.js\"></script>\n",
      "<script src=\"http://www.swellnet.com/sites/default/files/js/js_0qGD1CqGsDpO1yJ1qzckatKYx8lDESM0HyyA0gOUh_k.js\"></script>\n",
      "<script src=\"http://www.swellnet.com/sites/default/files/js/js_uvgUomgWRDecmOPO_7f75pcoYGSMgROXSc-zcnF9t5Y.js\"></script>\n",
      "<script src=\"http://www.swellnet.com/sites/default/files/js/js_eyXcrJB9cRASZLL4ZUYHzxYhTD3GGZaY7miuLPQuF6s.js\"></script>\n",
      "<script src=\"http://www.swellnet.com/sites/default/files/js/js_1I63EV2Un02YeSe_qhYfgYz2RuUCae25XoFp8zX-d6w.js\"></script>\n",
      "<script>jQuery.extend(Drupal.settings, {\"basePath\":\"\\/\",\"pathPrefix\":\"\",\"ajaxPageState\":{\"theme\":\"swellzen\",\"theme_token\":\"6HJ2VZl4sAhPRNW_ppsnXHw7GkcwFUNWNb_S562cLl8\",\"js\":{\"profiles\\/swellnet\\/modules\\/contrib\\/jquery_update\\/replace\\/jquery\\/1.5\\/jquery.min.js\":1,\"misc\\/jquery.once.js\":1,\"misc\\/drupal.js\":1,\"misc\\/ui\\/jquery.ui.core.min.js\":1,\"misc\\/ui\\/jquery.ui.widget.min.js\":1,\"misc\\/ui\\/jquery.ui.accordion.min.js\":1,\"profiles\\/swellnet\\/modules\\/contrib\\/comment_notify\\/comment_notify.js\":1,\"profiles\\/swellnet\\/modules\\/contrib\\/extlink\\/extlink.js\":1,\"profiles\\/swellnet\\/modules\\/contrib\\/quote\\/quote.js\":1,\"profiles\\/swellnet\\/modules\\/custom\\/swellnet_location\\/swellnet_location_report\\/js\\/swellnet_report.js\":1,\"profiles\\/swellnet\\/modules\\/custom\\/swellnet_location\\/swellnet_location_report\\/js\\/2D.js\":1,\"profiles\\/swellnet\\/modules\\/custom\\/swellnet_location\\/swellnet_location_report\\/js\\/swellnet_report_tides.js\":1,\"profiles\\/swellnet\\/modules\\/custom\\/swellnet_location\\/swellnet_location_report\\/js\\/swellnet_report_wind.js\":1,\"profiles\\/swellnet\\/themes\\/swellzen\\/js\\/script.js\":1,\"profiles\\/swellnet\\/themes\\/swellzen\\/js\\/lib\\/fresco\\/fresco.js\":1,\"profiles\\/swellnet\\/themes\\/swellzen\\/js\\/lib\\/formalize\\/jquery.formalize.legacy.js\":1,\"profiles\\/swellnet\\/themes\\/swellzen\\/js\\/lib\\/tipsy\\/jquery.tipsy.js\":1,\"profiles\\/swellnet\\/themes\\/swellzen\\/js\\/lib\\/d3\\/d3.v3.min.js\":1,\"profiles\\/swellnet\\/themes\\/swellzen\\/js\\/lib\\/colorbox\\/jquery.colorbox-min.js\":1,\"profiles\\/swellnet\\/themes\\/swellzen\\/js\\/lib\\/flexslider\\/jquery.flexslider-min.js\":1,\"profiles\\/swellnet\\/themes\\/swellzen\\/js\\/lib\\/masonry\\/masonry.pkgd.min.js\":1,\"profiles\\/swellnet\\/themes\\/swellzen\\/js\\/lib\\/imagesloaded\\/imagesloaded.pkgd.min.js\":1},\"css\":{\"modules\\/system\\/system.base.css\":1,\"modules\\/system\\/system.menus.css\":1,\"modules\\/system\\/system.messages.css\":1,\"modules\\/system\\/system.theme.css\":1,\"misc\\/ui\\/jquery.ui.core.css\":1,\"misc\\/ui\\/jquery.ui.theme.css\":1,\"misc\\/ui\\/jquery.ui.accordion.css\":1,\"profiles\\/swellnet\\/modules\\/contrib\\/comment_notify\\/comment_notify.css\":1,\"modules\\/comment\\/comment.css\":1,\"profiles\\/swellnet\\/modules\\/contrib\\/date\\/date_api\\/date.css\":1,\"profiles\\/swellnet\\/modules\\/contrib\\/date\\/date_popup\\/themes\\/datepicker.1.7.css\":1,\"modules\\/field\\/theme\\/field.css\":1,\"profiles\\/swellnet\\/modules\\/contrib\\/logintoboggan\\/logintoboggan.css\":1,\"profiles\\/swellnet\\/modules\\/contrib\\/mollom\\/mollom.css\":1,\"modules\\/node\\/node.css\":1,\"modules\\/search\\/search.css\":1,\"modules\\/user\\/user.css\":1,\"profiles\\/swellnet\\/modules\\/contrib\\/video_filter\\/video_filter.css\":1,\"profiles\\/swellnet\\/modules\\/contrib\\/extlink\\/extlink.css\":1,\"modules\\/forum\\/forum.css\":1,\"profiles\\/swellnet\\/modules\\/contrib\\/views\\/css\\/views.css\":1,\"profiles\\/swellnet\\/modules\\/contrib\\/ckeditor\\/css\\/ckeditor.css\":1,\"profiles\\/swellnet\\/modules\\/contrib\\/chartbeat\\/chartbeat.css\":1,\"profiles\\/swellnet\\/modules\\/contrib\\/ctools\\/css\\/ctools.css\":1,\"profiles\\/swellnet\\/modules\\/contrib\\/panels\\/css\\/panels.css\":1,\"profiles\\/swellnet\\/modules\\/contrib\\/quote\\/quote.css\":1,\"profiles\\/swellnet\\/themes\\/swellzen\\/layouts\\/sixthree\\/sixthree.css\":1,\"profiles\\/swellnet\\/themes\\/zen\\/system.menus.css\":1,\"profiles\\/swellnet\\/themes\\/swellzen\\/css\\/normalize.css\":1,\"profiles\\/swellnet\\/themes\\/swellzen\\/css\\/layouts\\/fixed-width.css\":1,\"profiles\\/swellnet\\/themes\\/swellzen\\/css\\/tabs.css\":1,\"profiles\\/swellnet\\/themes\\/swellzen\\/css\\/pages.css\":1,\"profiles\\/swellnet\\/themes\\/swellzen\\/css\\/blocks.css\":1,\"profiles\\/swellnet\\/themes\\/swellzen\\/css\\/navigation.css\":1,\"profiles\\/swellnet\\/themes\\/swellzen\\/css\\/views-styles.css\":1,\"profiles\\/swellnet\\/themes\\/swellzen\\/css\\/nodes.css\":1,\"profiles\\/swellnet\\/themes\\/swellzen\\/css\\/comments.css\":1,\"profiles\\/swellnet\\/themes\\/swellzen\\/css\\/forms.css\":1,\"profiles\\/swellnet\\/themes\\/swellzen\\/css\\/fields.css\":1,\"profiles\\/swellnet\\/themes\\/swellzen\\/css\\/panels.css\":1,\"profiles\\/swellnet\\/themes\\/swellzen\\/css\\/popup-announcements.css\":1,\"profiles\\/swellnet\\/themes\\/swellzen\\/css\\/style.css\":1,\"profiles\\/swellnet\\/themes\\/swellzen\\/css\\/users.css\":1,\"profiles\\/swellnet\\/themes\\/swellzen\\/css\\/print.css\":1,\"profiles\\/swellnet\\/themes\\/swellzen\\/css\\/wams.css\":1,\"profiles\\/swellnet\\/themes\\/swellzen\\/css\\/forecast.css\":1,\"profiles\\/swellnet\\/themes\\/swellzen\\/css\\/report.css\":1,\"profiles\\/swellnet\\/themes\\/swellzen\\/css\\/lib\\/fresco\\/fresco.css\":1,\"profiles\\/swellnet\\/themes\\/swellzen\\/css\\/lib\\/tipsy\\/tipsy.css\":1}},\"chartbeat\":{\"uid\":10032,\"domain\":\"www.swellnet.com\",\"useCanonical\":true,\"noCookies\":false},\"quote_nest\":\"2\",\"video_filter\":{\"url\":{\"ckeditor\":\"\\/video_filter\\/dashboard\\/ckeditor\"},\"instructions_url\":\"\\/video_filter\\/instructions\",\"modulepath\":\"profiles\\/swellnet\\/modules\\/contrib\\/video_filter\"},\"swellnet\":{\"before\":1480886917,\"start\":1480973317,\"end\":1481059717,\"offset\":36000,\"wind\":{\"1480971600\":{\"timestamp\":1480971600,\"time\":\"9:00pm\",\"day\":\"Mon\",\"direction\":\"350\",\"label\":\"N\",\"speed\":\"13\",\"layout\":{\"size\":\"12px\",\"left\":\"13px\",\"top\":\"12px\"},\"colour\":\"#00d900\"},\"1480968000\":{\"timestamp\":1480968000,\"time\":\"8:00pm\",\"day\":\"Mon\",\"direction\":\"350\",\"label\":\"N\",\"speed\":\"13\",\"layout\":{\"size\":\"12px\",\"left\":\"13px\",\"top\":\"12px\"},\"colour\":\"#00d900\"},\"1480964400\":{\"timestamp\":1480964400,\"time\":\"7:00pm\",\"day\":\"Mon\",\"direction\":\"340\",\"label\":\"NNW\",\"speed\":\"14\",\"layout\":{\"size\":\"12px\",\"left\":\"13px\",\"top\":\"12px\"},\"colour\":\"#00d900\"},\"1480960800\":{\"timestamp\":1480960800,\"time\":\"6:00pm\",\"day\":\"Mon\",\"direction\":\"350\",\"label\":\"N\",\"speed\":\"17\",\"layout\":{\"size\":\"16px\",\"left\":\"9px\",\"top\":\"9px\"},\"colour\":\"#d9d801\"},\"1480957200\":{\"timestamp\":1480957200,\"time\":\"5:00pm\",\"day\":\"Mon\",\"direction\":\"360\",\"label\":\"N\",\"speed\":\"17\",\"layout\":{\"size\":\"16px\",\"left\":\"9px\",\"top\":\"9px\"},\"colour\":\"#d9d801\"},\"1480953600\":{\"timestamp\":1480953600,\"time\":\"4:00pm\",\"day\":\"Mon\",\"direction\":\"360\",\"label\":\"N\",\"speed\":\"19\",\"layout\":{\"size\":\"16px\",\"left\":\"9px\",\"top\":\"9px\"},\"colour\":\"#d9d801\"},\"1480950000\":{\"timestamp\":1480950000,\"time\":\"3:00pm\",\"day\":\"Mon\",\"direction\":\"10\",\"label\":\"N\",\"speed\":\"19\",\"layout\":{\"size\":\"16px\",\"left\":\"9px\",\"top\":\"9px\"},\"colour\":\"#d9d801\"},\"1480946400\":{\"timestamp\":1480946400,\"time\":\"2:00pm\",\"day\":\"Mon\",\"direction\":\"10\",\"label\":\"N\",\"speed\":\"20\",\"layout\":{\"size\":\"16px\",\"left\":\"9px\",\"top\":\"9px\"},\"colour\":\"#da0000\"},\"1480942800\":{\"timestamp\":1480942800,\"time\":\"1:00pm\",\"day\":\"Mon\",\"direction\":\"10\",\"label\":\"N\",\"speed\":\"22\",\"layout\":{\"size\":\"16px\",\"left\":\"9px\",\"top\":\"9px\"},\"colour\":\"#da0000\"},\"1480939200\":{\"timestamp\":1480939200,\"time\":\"12:00pm\",\"day\":\"Mon\",\"direction\":\"10\",\"label\":\"N\",\"speed\":\"20\",\"layout\":{\"size\":\"16px\",\"left\":\"9px\",\"top\":\"9px\"},\"colour\":\"#da0000\"},\"1480935600\":{\"timestamp\":1480935600,\"time\":\"11:00am\",\"day\":\"Mon\",\"direction\":\"360\",\"label\":\"N\",\"speed\":\"20\",\"layout\":{\"size\":\"16px\",\"left\":\"9px\",\"top\":\"9px\"},\"colour\":\"#da0000\"},\"1480932000\":{\"timestamp\":1480932000,\"time\":\"10:00am\",\"day\":\"Mon\",\"direction\":\"360\",\"label\":\"N\",\"speed\":\"17\",\"layout\":{\"size\":\"16px\",\"left\":\"9px\",\"top\":\"9px\"},\"colour\":\"#d9d801\"},\"1480928400\":{\"timestamp\":1480928400,\"time\":\"9:00am\",\"day\":\"Mon\",\"direction\":\"350\",\"label\":\"N\",\"speed\":\"15\",\"layout\":{\"size\":\"16px\",\"left\":\"9px\",\"top\":\"9px\"},\"colour\":\"#d9d801\"},\"1480924800\":{\"timestamp\":1480924800,\"time\":\"8:00am\",\"day\":\"Mon\",\"direction\":\"350\",\"label\":\"N\",\"speed\":\"16\",\"layout\":{\"size\":\"16px\",\"left\":\"9px\",\"top\":\"9px\"},\"colour\":\"#d9d801\"},\"1480921200\":{\"timestamp\":1480921200,\"time\":\"7:00am\",\"day\":\"Mon\",\"direction\":\"350\",\"label\":\"N\",\"speed\":\"13\",\"layout\":{\"size\":\"12px\",\"left\":\"13px\",\"top\":\"12px\"},\"colour\":\"#00d900\"},\"1480917600\":{\"timestamp\":1480917600,\"time\":\"6:00am\",\"day\":\"Mon\",\"direction\":\"350\",\"label\":\"N\",\"speed\":\"11\",\"layout\":{\"size\":\"12px\",\"left\":\"13px\",\"top\":\"12px\"},\"colour\":\"#00d900\"},\"1480914000\":{\"timestamp\":1480914000,\"time\":\"5:00am\",\"day\":\"Mon\",\"direction\":\"350\",\"label\":\"N\",\"speed\":\"11\",\"layout\":{\"size\":\"12px\",\"left\":\"13px\",\"top\":\"12px\"},\"colour\":\"#00d900\"},\"1480910400\":{\"timestamp\":1480910400,\"time\":\"4:00am\",\"day\":\"Mon\",\"direction\":\"350\",\"label\":\"N\",\"speed\":\"11\",\"layout\":{\"size\":\"12px\",\"left\":\"13px\",\"top\":\"12px\"},\"colour\":\"#00d900\"},\"1480906800\":{\"timestamp\":1480906800,\"time\":\"3:00am\",\"day\":\"Mon\",\"direction\":\"350\",\"label\":\"N\",\"speed\":\"14\",\"layout\":{\"size\":\"12px\",\"left\":\"13px\",\"top\":\"12px\"},\"colour\":\"#00d900\"},\"1480903200\":{\"timestamp\":1480903200,\"time\":\"2:00am\",\"day\":\"Mon\",\"direction\":\"350\",\"label\":\"N\",\"speed\":\"11\",\"layout\":{\"size\":\"12px\",\"left\":\"13px\",\"top\":\"12px\"},\"colour\":\"#00d900\"},\"1480899600\":{\"timestamp\":1480899600,\"time\":\"1:00am\",\"day\":\"Mon\",\"direction\":\"350\",\"label\":\"N\",\"speed\":\"11\",\"layout\":{\"size\":\"12px\",\"left\":\"13px\",\"top\":\"12px\"},\"colour\":\"#00d900\"},\"1480896000\":{\"timestamp\":1480896000,\"time\":\"12:00am\",\"day\":\"Mon\",\"direction\":\"360\",\"label\":\"N\",\"speed\":\"9\",\"layout\":{\"size\":\"12px\",\"left\":\"13px\",\"top\":\"12px\"},\"colour\":\"#000c70\"},\"1480892400\":{\"timestamp\":1480892400,\"time\":\"11:00pm\",\"day\":\"Sun\",\"direction\":\"360\",\"label\":\"N\",\"speed\":\"10\",\"layout\":{\"size\":\"12px\",\"left\":\"13px\",\"top\":\"12px\"},\"colour\":\"#00d900\"},\"1480888800\":{\"timestamp\":1480888800,\"time\":\"10:00pm\",\"day\":\"Sun\",\"direction\":\"350\",\"label\":\"N\",\"speed\":\"11\",\"layout\":{\"size\":\"12px\",\"left\":\"13px\",\"top\":\"12px\"},\"colour\":\"#00d900\"}},\"tides\":{\"1480897560\":{\"timestamp\":1480897560,\"original_time\":\"2016-12-05T00:26\",\"time\":\"12:26am\",\"day\":\"Mon\",\"type\":\"High\",\"height\":\"1.04\"},\"1480917720\":{\"timestamp\":1480917720,\"original_time\":\"2016-12-05T06:02\",\"time\":\"6:02am\",\"day\":\"Mon\",\"type\":\"Low\",\"height\":\"0.43\"},\"1480942560\":{\"timestamp\":1480942560,\"original_time\":\"2016-12-05T12:56\",\"time\":\"12:56pm\",\"day\":\"Mon\",\"type\":\"High\",\"height\":\"1.45\"},\"1480966680\":{\"timestamp\":1480966680,\"original_time\":\"2016-12-05T19:38\",\"time\":\"7:38pm\",\"day\":\"Mon\",\"type\":\"Low\",\"height\":\"0.41\"},\"1480987620\":{\"timestamp\":1480987620,\"original_time\":\"2016-12-06T01:27\",\"time\":\"1:27am\",\"day\":\"Tue\",\"type\":\"High\",\"height\":\"1.03\"},\"1481007540\":{\"timestamp\":1481007540,\"original_time\":\"2016-12-06T06:59\",\"time\":\"6:59am\",\"day\":\"Tue\",\"type\":\"Low\",\"height\":\"0.49\"},\"1481032080\":{\"timestamp\":1481032080,\"original_time\":\"2016-12-06T13:48\",\"time\":\"1:48pm\",\"day\":\"Tue\",\"type\":\"High\",\"height\":\"1.41\"},\"1481056380\":{\"timestamp\":1481056380,\"original_time\":\"2016-12-06T20:33\",\"time\":\"8:33pm\",\"day\":\"Tue\",\"type\":\"Low\",\"height\":\"0.40\"},\"1481078280\":{\"timestamp\":1481078280,\"original_time\":\"2016-12-07T02:38\",\"time\":\"2:38am\",\"day\":\"Wed\",\"type\":\"High\",\"height\":\"1.06\"},\"1481097960\":{\"timestamp\":1481097960,\"original_time\":\"2016-12-07T08:06\",\"time\":\"8:06am\",\"day\":\"Wed\",\"type\":\"Low\",\"height\":\"0.53\"},\"1481122020\":{\"timestamp\":1481122020,\"original_time\":\"2016-12-07T14:47\",\"time\":\"2:47pm\",\"day\":\"Wed\",\"type\":\"High\",\"height\":\"1.37\"},\"1481146260\":{\"timestamp\":1481146260,\"original_time\":\"2016-12-07T21:31\",\"time\":\"9:31pm\",\"day\":\"Wed\",\"type\":\"Low\",\"height\":\"0.37\"},\"1481168940\":{\"timestamp\":1481168940,\"original_time\":\"2016-12-08T03:49\",\"time\":\"3:49am\",\"day\":\"Thu\",\"type\":\"High\",\"height\":\"1.13\"},\"1481188920\":{\"timestamp\":1481188920,\"original_time\":\"2016-12-08T09:22\",\"time\":\"9:22am\",\"day\":\"Thu\",\"type\":\"Low\",\"height\":\"0.55\"},\"1481212260\":{\"timestamp\":1481212260,\"original_time\":\"2016-12-08T15:51\",\"time\":\"3:51pm\",\"day\":\"Thu\",\"type\":\"High\",\"height\":\"1.35\"},\"1481236140\":{\"timestamp\":1481236140,\"original_time\":\"2016-12-08T22:29\",\"time\":\"10:29pm\",\"day\":\"Thu\",\"type\":\"Low\",\"height\":\"0.32\"},\"1481259240\":{\"timestamp\":1481259240,\"original_time\":\"2016-12-09T04:54\",\"time\":\"4:54am\",\"day\":\"Fri\",\"type\":\"High\",\"height\":\"1.24\"},\"1481279940\":{\"timestamp\":1481279940,\"original_time\":\"2016-12-09T10:39\",\"time\":\"10:39am\",\"day\":\"Fri\",\"type\":\"Low\",\"height\":\"0.52\"},\"1481302440\":{\"timestamp\":1481302440,\"original_time\":\"2016-12-09T16:54\",\"time\":\"4:54pm\",\"day\":\"Fri\",\"type\":\"High\",\"height\":\"1.34\"},\"1481325720\":{\"timestamp\":1481325720,\"original_time\":\"2016-12-09T23:22\",\"time\":\"11:22pm\",\"day\":\"Fri\",\"type\":\"Low\",\"height\":\"0.25\"},\"1481349060\":{\"timestamp\":1481349060,\"original_time\":\"2016-12-10T05:51\",\"time\":\"5:51am\",\"day\":\"Sat\",\"type\":\"High\",\"height\":\"1.38\"},\"1481370600\":{\"timestamp\":1481370600,\"original_time\":\"2016-12-10T11:50\",\"time\":\"11:50am\",\"day\":\"Sat\",\"type\":\"Low\",\"height\":\"0.45\"},\"1481392440\":{\"timestamp\":1481392440,\"original_time\":\"2016-12-10T17:54\",\"time\":\"5:54pm\",\"day\":\"Sat\",\"type\":\"High\",\"height\":\"1.34\"},\"1481415120\":{\"timestamp\":1481415120,\"original_time\":\"2016-12-11T00:12\",\"time\":\"12:12am\",\"day\":\"Sun\",\"type\":\"Low\",\"height\":\"0.17\"},\"1481438700\":{\"timestamp\":1481438700,\"original_time\":\"2016-12-11T06:45\",\"time\":\"6:45am\",\"day\":\"Sun\",\"type\":\"High\",\"height\":\"1.52\"},\"1481460900\":{\"timestamp\":1481460900,\"original_time\":\"2016-12-11T12:55\",\"time\":\"12:55pm\",\"day\":\"Sun\",\"type\":\"Low\",\"height\":\"0.37\"},\"1481482200\":{\"timestamp\":1481482200,\"original_time\":\"2016-12-11T18:50\",\"time\":\"6:50pm\",\"day\":\"Sun\",\"type\":\"High\",\"height\":\"1.34\"},\"1481504400\":{\"timestamp\":1481504400,\"original_time\":\"2016-12-12T01:00\",\"time\":\"1:00am\",\"day\":\"Mon\",\"type\":\"Low\",\"height\":\"0.11\"}}},\"urlIsAjaxTrusted\":{\"\\/reports\\/australia\\/queensland\\/gold-coast\":true},\"extlink\":{\"extTarget\":\"_blank\",\"extClass\":0,\"extLabel\":\"(link is external)\",\"extImgClass\":0,\"extSubdomains\":1,\"extExclude\":\"\",\"extInclude\":\"\",\"extCssExclude\":\"\",\"extCssExplicit\":\"\",\"extAlert\":0,\"extAlertText\":\"This link will take you to an external web site.\",\"mailtoClass\":0,\"mailtoLabel\":\"(link sends e-mail)\"}});</script>\n",
      "<!--[if lt IE 9]>\n",
      "    <script src=\"/profiles/swellnet/themes/zen/js/html5-respond.js\"></script>\n",
      "    <![endif]-->\n",
      "<!-- Google Tag Manager -->\n",
      "<script>(function(w,d,s,l,i){w[l]=w[l]||[];w[l].push({'gtm.start':\n",
      "new Date().getTime(),event:'gtm.js'});var f=d.getElementsByTagName(s)[0],\n",
      "j=d.createElement(s),dl=l!='dataLayer'?'&l='+l:'';j.async=true;j.src=\n",
      "'https://www.googletagmanager.com/gtm.js?id='+i+dl;f.parentNode.insertBefore(j,f);\n",
      "})(window,document,'script','dataLayer','GTM-MJFRTK4');</script>\n",
      "<!-- End Google Tag Manager -->\n",
      "</meta></meta></meta></meta></head>\n",
      "<body class=\"html not-front not-logged-in no-sidebars page-node page-node- page-node-445 node-type-surf-location panels-driven-layout main-colspan-9 main-nested-container section-reports page-panels\" id=\"swellnet-body\">\n",
      "<!-- Google Tag Manager (noscript) -->\n",
      "<noscript><iframe height=\"0\" src=\"https://www.googletagmanager.com/ns.html?id=GTM-MJFRTK4\" style=\"display:none;visibility:hidden\" width=\"0\"></iframe></noscript>\n",
      "<!-- End Google Tag Manager (noscript) -->\n",
      "<p id=\"skip-link\">\n",
      "<a class=\"element-invisible element-focusable\" href=\"#main-menu\">Jump to navigation</a>\n",
      "</p>\n",
      "<div id=\"wrapper\">\n",
      "<div id=\"prologue\">\n",
      "<div id=\"user-bar\">\n",
      "<div class=\"block block-swellnet-subscription first odd\" id=\"block-swellnet-subscription-pro-link\">\n",
      "<h2 class=\"block__title block-title\">Pro Link</h2>\n",
      "<a href=\"/pro/subscribe\">Get Swellnet PRO, and score $40 of surfing essentials for free</a>\n",
      "</div>\n",
      "<nav id=\"site-user-menu\">\n",
      "<ul class=\"menu\"><li class=\"menu__item is-leaf first leaf\" id=\"nav-log-in\"><a class=\"menu__link\" href=\"/user/login\">Log in</a></li>\n",
      "<li class=\"menu__item is-leaf last leaf\" id=\"nav-register\"><a class=\"menu__link\" href=\"/user/register\">Register</a></li>\n",
      "</ul></nav> </div>\n",
      "</div> <!-- /#prologue -->\n",
      "<div id=\"page\">\n",
      "<div id=\"header\" role=\"banner\">\n",
      "<span class=\"site-logo\">\n",
      "<a href=\"/\" id=\"logo\" rel=\"home\" title=\"Return to the Swellnet home page\"><img alt=\"Swellnet logo\" src=\"http://www.swellnet.com/profiles/swellnet/themes/swellzen/logo.png\"/></a></span><div class=\"nav\" id=\"site-main-menu\">\n",
      "<h2 class=\"block__title block-title\">Main menu</h2>\n",
      "<ul class=\"menu\"><li class=\"menu__item is-leaf first leaf\" id=\"nav-home\"><a class=\"menu__link\" href=\"/welcome\" title=\"Home\">Home</a></li>\n",
      "<li class=\"menu__item is-leaf leaf\" id=\"nav-surf-reports-and-forecasts\"><a class=\"menu__link\" href=\"/reports\">Surf Reports &amp; Forecasts</a></li>\n",
      "<li class=\"menu__item is-leaf leaf\" id=\"nav-surfcams\"><a class=\"menu__link\" href=\"/surfcams\">Surfcams</a></li>\n",
      "<li class=\"menu__item is-leaf leaf\" id=\"nav-news\"><a class=\"menu__link\" href=\"/news\">News</a></li>\n",
      "<li class=\"menu__item is-leaf leaf\" id=\"nav-photos\"><a class=\"menu__link\" href=\"/photos\">Photos</a></li>\n",
      "<li class=\"menu__item is-leaf last leaf\" id=\"nav-forum\"><a class=\"menu__link\" href=\"/forum\" title=\"\">Forum</a></li>\n",
      "</ul></div><div class=\"boxes-box\" id=\"boxes-box-swellnet_adblock_leaderboard\"><div class=\"boxes-box-content\"><span class=\"mcnamf\" title=\"728x90\"></span></div></div> </div>\n",
      "<div id=\"main-section\">\n",
      "<div id=\"main\" role=\"main\">\n",
      "<div class=\"layout-sixthree section panel-left\">\n",
      "<div class=\"panel-pane pane-page-breadcrumb\">\n",
      "<nav class=\"breadcrumb\" role=\"navigation\"><h2 class=\"element-invisible\">You are here</h2><ol><li><a href=\"/\">Home</a> › </li><li><a href=\"/reports\">Surf Reports &amp; Forecasts</a> › </li><li><a href=\"/reports/australia\">Australia</a> › </li><li><a href=\"/reports/australia/queensland\">Queensland</a> › </li><li>Gold Coast</li></ol></nav>\n",
      "</div>\n",
      "<div class=\"panel-pane pane-page-tabs\">\n",
      "<div id=\"tabs\"><h2 class=\"element-invisible\">Primary tabs</h2><ul class=\"tabs-primary tabs primary\"><li class=\"active\"><a class=\"active\" href=\"/reports/australia/queensland/gold-coast\">Surf Report<span class=\"element-invisible\">(active tab)</span></a></li>\n",
      "<li><a href=\"/reports/australia/queensland/gold-coast/forecast\">Surf Forecast</a></li>\n",
      "<li><a href=\"/reports/australia/queensland/gold-coast/wams\">WAMS</a></li>\n",
      "<li><a href=\"/reports/australia/queensland/gold-coast/forecaster-notes\">Forecaster Notes</a></li>\n",
      "</ul></div>\n",
      "</div>\n",
      "<div class=\"panel-pane pane-views-panes pane-surf-reports-panel-pane\">\n",
      "<div class=\"view view-surf-reports view-id-surf_reports view-display-id-panel_pane view-dom-id-66320efbf49885d5777c28af0624a7f7\">\n",
      "<div class=\"view-content\">\n",
      "<div class=\"views-row views-row-1 views-row-odd views-row-first views-row-last\">\n",
      "<div class=\"views-field views-field-title\"> <span class=\"field-content\">Gold Coast</span> </div> </div>\n",
      "</div>\n",
      "<div class=\"attachment attachment-after\">\n",
      "<div class=\"view view-surf-reports view-id-surf_reports view-display-id-latest_report\">\n",
      "<div class=\"view-content\">\n",
      "<div class=\"views-row views-row-1 views-row-odd views-row-first views-row-last\">\n",
      "<span class=\"views-field views-field-field-surf-report-date\"> <span class=\"views-label views-label-field-surf-report-date\">Updated: </span> <span class=\"field-content\">2016-12-05 14:05:00</span> </span>\n",
      "<span class=\"views-field views-field-nothing\"> <span class=\"views-label views-label-nothing\">Surf: </span> <span class=\"field-content\">choppy 2ft NNE   </span> </span>\n",
      "<span class=\"views-field views-field-field-surf-report-wind\"> <span class=\"views-label views-label-field-surf-report-wind\">Winds: </span> <span class=\"field-content\">Fresh NNE</span> </span>\n",
      "<span class=\"views-field views-field-field-surf-report-weather\"> <span class=\"views-label views-label-field-surf-report-weather\">Weather: </span> <span class=\"field-content\">fine</span> </span>\n",
      "<span class=\"views-field views-field-field-surf-report-rating\"> <span class=\"views-label views-label-field-surf-report-rating\">Rating: </span> <span class=\"field-content\">2/10</span> </span>\n",
      "<div class=\"views-field views-field-body\"> <div class=\"field-content\"><p>Afternoon report: As per the last few afternoons the northerly windswell is on the build again with the afternoon breeze.</p>\n",
      "</div> </div> </div>\n",
      "</div>\n",
      "</div><div class=\"view view-surf-reports view-id-surf_reports view-display-id-older\">\n",
      "<div class=\"view-content\">\n",
      "<div class=\"views-row views-row-1 views-row-odd views-row-first\">\n",
      "<span class=\"views-field views-field-field-surf-report-date\"> <span class=\"field-content\">2016-12-05 07:51:00:</span> </span>\n",
      "<span class=\"views-field views-field-nothing\"> <span class=\"field-content\">choppy 1-1.5ft NE,   </span> </span>\n",
      "<span class=\"views-field views-field-field-surf-report-wind\"> <span class=\"field-content\">Moderate NE,</span> </span>\n",
      "<span class=\"views-field views-field-field-surf-report-weather\"> <span class=\"field-content\">partly cloudy</span> </span>\n",
      "<span class=\"views-field views-field-field-surf-report-rating\"> <span class=\"field-content\">2/10</span> </span>\n",
      "<div class=\"views-field views-field-body\"> <div class=\"field-content\"><p>Only 1-1.5ft of windswell on offer at exposed locations and with the wind up blowing fairly strong from the NE it's not looking very inviting. Really only for the groms or the learners. Enjoy your day.</p></div> </div> </div>\n",
      "<div class=\"views-row views-row-2 views-row-even views-row-last\">\n",
      "<span class=\"views-field views-field-field-surf-report-date\"> <span class=\"field-content\">2016-12-05 04:13:00:</span> </span>\n",
      "<span class=\"views-field views-field-nothing\"> <span class=\"field-content\">peaky 1-2ft NE,   </span> </span>\n",
      "<span class=\"views-field views-field-field-surf-report-wind\"> <span class=\"field-content\">Light N,</span> </span>\n",
      "<span class=\"views-field views-field-field-surf-report-weather\"> <span class=\"field-content\">fine</span> </span>\n",
      "<span class=\"views-field views-field-field-surf-report-rating\"> <span class=\"field-content\">2/10</span> </span>\n",
      "<div class=\"views-field views-field-body\"> <div class=\"field-content\"><p>Dawn report: It's like a broken record 'round here, small NE windswell and light N'ly winds ahead of a freshening trend during the day. Not much to get excited about but there are some small peaks for the grommets. Tune back in for the updated photo report around 8am.</p>\n",
      "</div> </div> </div>\n",
      "</div>\n",
      "</div> </div>\n",
      "</div>\n",
      "</div>\n",
      "<div class=\"panel-pane pane-views-panes pane-surf-reports-photos\">\n",
      "<div class=\"view view-surf-reports view-id-surf_reports view-display-id-photos view-dom-id-3b92df6e9bd8be89b052a8addb850a9a\">\n",
      "<div class=\"view-header\">\n",
      "      Daily Photos:    </div>\n",
      "<div class=\"view-content\">\n",
      "<div class=\"views-row views-row-1 views-row-odd views-row-first\">\n",
      "</div>\n",
      "<div class=\"views-row views-row-2 views-row-even\">\n",
      "<div class=\"views-field views-field-field-surf-report-images\"> <div class=\"field-content\"><div class=\"field field-name-field-surf-report-images field-type-file field-label-hidden\"><div class=\"field-items\"><div class=\"field-item even\"><a class=\"fresco\" data-fresco-group=\"unique_name\" data-fresco-group-options=\"thumbnails:false\" href=\"http://www.swellnet.com/sites/default/files/styles/swellnet_large_1000x667/public/surf-reports/images/img_1505_0.jpg?itok=NmY4fvQe\"><div class=\"ds-1col file file-image file-image-jpeg view-mode-gallery_teaser_postcard clearfix\">\n",
      "<img alt=\"\" height=\"218\" src=\"http://www.swellnet.com/sites/default/files/styles/swellnet_postcard_330x218/public/surf-reports/images/img_1505_0.jpg?itok=UOCY5cB-\" width=\"330\"/></div>\n",
      "</a></div></div></div></div> </div> </div>\n",
      "<div class=\"views-row views-row-3 views-row-odd views-row-last\">\n",
      "</div>\n",
      "</div>\n",
      "</div>\n",
      "</div>\n",
      "<div class=\"panel-pane pane-block pane-boxes-shapers-directory-unit-gold-coas block-boxes-simple \">\n",
      "<h2 class=\"pane-title\">Local Shaper Directory</h2>\n",
      "<div class=\"boxes-box\" id=\"boxes-box-shapers_directory_unit_gold_coas\"><div class=\"boxes-box-content\"><!-- Shapers Directory Unit - Gold Coast -->\n",
      "<script src=\"https://www.googletagservices.com/tag/js/gpt.js\">\n",
      "      googletag.pubads().definePassback('/8349402/shapers-directory_gc', [105, 354]).display();\n",
      "    </script>\n",
      "<script src=\"https://www.googletagservices.com/tag/js/gpt.js\">\n",
      "      googletag.pubads().definePassback('/8349402/shapers-directory_gc', [105, 354]).display();\n",
      "    </script>\n",
      "<script src=\"https://www.googletagservices.com/tag/js/gpt.js\">\n",
      "      googletag.pubads().definePassback('/8349402/shapers-directory_gc', [105, 354]).display();\n",
      "    </script>\n",
      "<script src=\"https://www.googletagservices.com/tag/js/gpt.js\">\n",
      "      googletag.pubads().definePassback('/8349402/shapers-directory_gc', [105, 354]).display();\n",
      "    </script>\n",
      "<script src=\"https://www.googletagservices.com/tag/js/gpt.js\">\n",
      "      googletag.pubads().definePassback('/8349402/shapers-directory_gc', [105, 354]).display();\n",
      "    </script>\n",
      "<script src=\"https://www.googletagservices.com/tag/js/gpt.js\">\n",
      "      googletag.pubads().definePassback('/8349402/shapers-directory_gc', [105, 354]).display();\n",
      "    </script>\n",
      "</div></div>\n",
      "</div>\n",
      "<div class=\"panel-pane pane-views-panes pane-nearest-observed-surf-reports-nearest-observed-surf-reports\">\n",
      "<div class=\"view view-nearest-observed-surf-reports view-id-nearest_observed_surf_reports view-display-id-nearest_observed_surf_reports view-dom-id-5f35b79b87b86b09c1450d16fc7cc343\">\n",
      "<div class=\"view-header\">\n",
      "      Nearest Observed Surf Reports:    </div>\n",
      "<div class=\"view-content\">\n",
      "<div class=\"views-row views-row-1 views-row-odd views-row-first\">\n",
      "<div class=\"views-field views-field-title\"> <span class=\"field-content\"><a href=\"/reports/australia/new-south-wales/ballina\">Ballina</a></span> </div> </div>\n",
      "<div class=\"views-row views-row-2 views-row-even\">\n",
      "<div class=\"views-field views-field-title\"> <span class=\"field-content\"><a href=\"/reports/australia/new-south-wales/yamba\">Yamba</a></span> </div> </div>\n",
      "<div class=\"views-row views-row-3 views-row-odd views-row-last\">\n",
      "<div class=\"views-field views-field-title\"> <span class=\"field-content\"><a href=\"/reports/australia/queensland/sunshine-coast\">Sunshine Coast</a></span> </div> </div>\n",
      "</div>\n",
      "</div>\n",
      "</div>\n",
      "<div class=\"panel-pane pane-views-panes pane-nearest-surfcams-nearest-surfcams\">\n",
      "<div class=\"view view-nearest-surfcams view-id-nearest_surfcams view-display-id-nearest_surfcams view-dom-id-c2c4207be422242709a162ed55776445\">\n",
      "<div class=\"view-header\">\n",
      "      Nearest Surfcams:    </div>\n",
      "<div class=\"view-content\">\n",
      "<div class=\"views-row views-row-1 views-row-odd views-row-first\">\n",
      "<div class=\"views-field views-field-static-image\"> <span class=\"field-content\"><a href=\"/surfcams/burleigh-heads\"><img alt=\"Burleigh Heads\" src=\"http://static.swellnet.com.au/images/surfcams/burleigh-heads-thumb.jpg\" title=\"Burleigh Heads\"/></a></span> </div>\n",
      "<div class=\"views-field views-field-title\"> <span class=\"field-content\"><a href=\"/surfcams/burleigh-heads\">Burleigh Heads</a></span> </div>\n",
      "<div class=\"views-field views-field-field-geofield-distance\"> <span class=\"field-content\">4.86302231413628</span> </div> </div>\n",
      "<div class=\"views-row views-row-2 views-row-even\">\n",
      "<div class=\"views-field views-field-static-image\"> <span class=\"field-content\"><a href=\"/surfcams/greenmount\"><img alt=\"Greenmount\" src=\"http://static.swellnet.com.au/images/surfcams/greenmount-thumb.jpg\" title=\"Greenmount\"/></a></span> </div>\n",
      "<div class=\"views-field views-field-title\"> <span class=\"field-content\"><a href=\"/surfcams/greenmount\">Greenmount</a></span> </div>\n",
      "<div class=\"views-field views-field-field-geofield-distance\"> <span class=\"field-content\">12.45182885713013</span> </div> </div>\n",
      "<div class=\"views-row views-row-3 views-row-odd\">\n",
      "<div class=\"views-field views-field-static-image\"> <span class=\"field-content\"><a href=\"/surfcams/snapper-rocks\"><img alt=\"Snapper Rocks\" src=\"http://static.swellnet.com.au/images/surfcams/snapper-rocks-thumb.jpg\" title=\"Snapper Rocks\"/></a></span> </div>\n",
      "<div class=\"views-field views-field-title\"> <span class=\"field-content\"><a href=\"/surfcams/snapper-rocks\">Snapper Rocks</a></span> </div>\n",
      "<div class=\"views-field views-field-field-geofield-distance\"> <span class=\"field-content\">12.53219647665651</span> </div> </div>\n",
      "<div class=\"views-row views-row-4 views-row-even views-row-last\">\n",
      "<div class=\"views-field views-field-static-image\"> <span class=\"field-content\"><a href=\"/surfcams/duranbah\"><img alt=\"Duranbah\" src=\"http://static.swellnet.com.au/images/surfcams/duranbah-thumb.jpg\" title=\"Duranbah\"/></a></span> </div>\n",
      "<div class=\"views-field views-field-title\"> <span class=\"field-content\"><a href=\"/surfcams/duranbah\">Duranbah</a></span> </div>\n",
      "<div class=\"views-field views-field-field-geofield-distance\"> <span class=\"field-content\">13.76547396984851</span> </div> </div>\n",
      "</div>\n",
      "</div>\n",
      "</div>\n",
      "<div class=\"panel-pane pane-swellnet-location-report-pane\">\n",
      "<div class=\"report-summary\">\n",
      "<div class=\"report-part report-surf\">\n",
      "<label>Model Estimated Surf Size (6pm)</label>\n",
      "<div class=\"surf\">\n",
      "<span class=\"height\">2ft</span>\n",
      "<span class=\"description\">(Waist-Shoulder High)</span>\n",
      "</div>\n",
      "</div>\n",
      "<div class=\"report-part report-fancy report-wind\">\n",
      "<div class=\"arrow\">\n",
      "<span style=\"font-size: 20px; left: 8px; top: 5px;  color: #ffffff; transform: rotate(174deg); -webkit-transform: rotate(174deg); -ms-transform: rotate(174deg);\">A</span>\n",
      "</div>\n",
      "<div>\n",
      "<label>Live Winds ( 21:20)</label>\n",
      "<span>\n",
      "                  N 15kt\n",
      "              </span>\n",
      "</div>\n",
      "</div>\n",
      "<div class=\"report-part report-trains\">\n",
      "<label>Swell Trains</label>\n",
      "<div>\n",
      "<label>Primary:</label>\n",
      "<span class=\"amount\">1.7</span>\n",
      "<span class=\"unit\">m</span>\n",
      "<span>@</span>\n",
      "<span class=\"period\">5.3s</span>\n",
      "<span class=\"direction\">N (8°)</span>\n",
      "</div>\n",
      "<div>\n",
      "<label>Secondary:</label>\n",
      "<span class=\"amount\">0.3</span>\n",
      "<span class=\"unit\">m</span>\n",
      "<span>@</span>\n",
      "<span class=\"period\">11.1s</span>\n",
      "<span class=\"direction\">NE (52°)</span>\n",
      "</div>\n",
      "</div>\n",
      "<div class=\"report-part report-fancy report-weather\">\n",
      "<img alt=\"Sunny\" src=\"/profiles/swellnet/themes/swellzen/images/weather/sunny.gif\"/>\n",
      "<div>\n",
      "<label>Weather</label>\n",
      "<span class=\"description\">Sunny</span>\n",
      "</div>\n",
      "</div>\n",
      "<div class=\"report-part report-sun\">\n",
      "<label>Sunset / Sunrise</label>\n",
      "<div>\n",
      "<span>First light: 4:15am</span>\n",
      "<span>Sunrise: 4:41am</span>\n",
      "<span>Sunset: 6:32pm</span>\n",
      "<span>Last light: 6:59pm</span>\n",
      "</div>\n",
      "</div>\n",
      "<div class=\"report-part report-fancy report-temperature\">\n",
      "<div class=\"current\">\n",
      "<span>22</span>\n",
      "</div>\n",
      "<div>\n",
      "<label>Air Temperature</label>\n",
      "<span>Current: 22.5 (9:20pm)</span>\n",
      "<span>Min: 21℃ - Max: 28℃</span>\n",
      "</div>\n",
      "</div>\n",
      "</div>\n",
      "<div class=\"element-invisible\" id=\"wind-station-name\"></div>\n",
      "<div class=\"report-wind-history\">\n",
      "<label>Wind History</label>\n",
      "<div>\n",
      "<svg></svg>\n",
      "</div>\n",
      "</div>\n",
      "<div class=\"element-invisible\" id=\"weather-station-name\">Coolangatta</div>\n",
      "<div class=\"report-tide-prediction\">\n",
      "<label>Tide Prediction</label>\n",
      "<div>\n",
      "<svg></svg>\n",
      "</div>\n",
      "</div>\n",
      "</div>\n",
      "</div>\n",
      "<div class=\"layout-sixthree section panel-right\">\n",
      "<div class=\"panel-pane pane-block pane-search-form\">\n",
      "<form accept-charset=\"UTF-8\" action=\"/reports/australia/queensland/gold-coast\" id=\"search-block-form\" method=\"post\"><div><div class=\"container-inline\">\n",
      "<h2 class=\"element-invisible\">Search form</h2>\n",
      "<div class=\"form-item form-type-textfield form-item-search-block-form\">\n",
      "<label class=\"element-invisible\" for=\"edit-search-block-form--2\">Search </label>\n",
      "<input class=\"form-text\" id=\"edit-search-block-form--2\" maxlength=\"128\" name=\"search_block_form\" size=\"15\" title=\"Enter the terms you wish to search for.\" type=\"text\" value=\"\"/>\n",
      "</div>\n",
      "<div class=\"form-actions form-wrapper\" id=\"edit-actions\"><input class=\"form-submit\" id=\"edit-submit\" name=\"op\" type=\"submit\" value=\"Go\"/></div><input name=\"form_build_id\" type=\"hidden\" value=\"form-CjO3Be4yGcQHYbdcVshkD5ie40joxHgyOopZqhfJdCY\"/>\n",
      "<input name=\"form_id\" type=\"hidden\" value=\"search_block_form\"/>\n",
      "</div>\n",
      "</div></form>\n",
      "</div>\n",
      "<div class=\"panel-pane pane-block pane-boxes-swellnet-adblock-mrec block-boxes-simple\">\n",
      "<div class=\"boxes-box\" id=\"boxes-box-swellnet_adblock_mrec\"><div class=\"boxes-box-content\"><span class=\"mcnamf\" title=\"300x250\"></span></div></div>\n",
      "</div>\n",
      "<div class=\"panel-pane pane-block pane-boxes-swellnet-adblock-halfisland block-boxes-simple\">\n",
      "<div class=\"boxes-box\" id=\"boxes-box-swellnet_adblock_halfisland\"><div class=\"boxes-box-content\"><span class=\"mcnamf\" title=\"300x125\"></span></div></div>\n",
      "</div>\n",
      "</div> </div> <!-- /#main -->\n",
      "</div>\n",
      "</div> <!-- /#page -->\n",
      "<div id=\"page-footer\"> </div> <!-- sticky-footer artefact -->\n",
      "</div>\n",
      "<footer id=\"footer\" role=\"contentinfo\">\n",
      "<div id=\"footer-content\">\n",
      "<div class=\"block block-menu-block first odd\" id=\"block-menu-block-1\" role=\"navigation\">\n",
      "<h2 class=\"block__title block-title\">Main menu</h2>\n",
      "<div class=\"menu-block-wrapper menu-block-1 menu-name-main-menu parent-mlid-0 menu-level-1\">\n",
      "<ul class=\"menu\"><li class=\"menu__item is-leaf first leaf menu-mlid-3561\" id=\"nav-home\"><a class=\"menu__link\" href=\"/welcome\" title=\"Home\">Home</a></li>\n",
      "<li class=\"menu__item is-leaf leaf menu-mlid-420\" id=\"nav-surf-reports-and-forecasts\"><a class=\"menu__link\" href=\"/reports\">Surf Reports &amp; Forecasts</a></li>\n",
      "<li class=\"menu__item is-leaf leaf menu-mlid-421\" id=\"nav-surfcams\"><a class=\"menu__link\" href=\"/surfcams\">Surfcams</a></li>\n",
      "<li class=\"menu__item is-leaf leaf menu-mlid-417\" id=\"nav-news\"><a class=\"menu__link\" href=\"/news\">News</a></li>\n",
      "<li class=\"menu__item is-leaf leaf menu-mlid-418\" id=\"nav-photos\"><a class=\"menu__link\" href=\"/photos\">Photos</a></li>\n",
      "<li class=\"menu__item is-leaf last leaf menu-mlid-411\" id=\"nav-forum\"><a class=\"menu__link\" href=\"/forum\" title=\"\">Forum</a></li>\n",
      "</ul></div>\n",
      "</div>\n",
      "<div class=\"block block-menu even\" id=\"block-menu-menu-miscellaneous-pages\" role=\"navigation\">\n",
      "<h2 class=\"block__title block-title\">Miscellaneous pages</h2>\n",
      "<ul class=\"menu\"><li class=\"menu__item is-leaf first leaf\" id=\"nav-privacy-policy\"><a class=\"menu__link\" href=\"/privacy\">Privacy policy</a></li>\n",
      "<li class=\"menu__item is-leaf leaf\" id=\"nav-terms-and-conditions\"><a class=\"menu__link\" href=\"/terms\">Terms and Conditions</a></li>\n",
      "<li class=\"menu__item is-leaf leaf\" id=\"nav-contact-us\"><a class=\"menu__link\" href=\"/contact\" title=\"\">Contact us</a></li>\n",
      "<li class=\"menu__item is-leaf last leaf\" id=\"nav-about-swellnet\"><a class=\"menu__link\" href=\"/about\">About Swellnet</a></li>\n",
      "</ul>\n",
      "</div>\n",
      "<div class=\"block block-menu odd\" id=\"block-menu-menu-user-menu-secondary\" role=\"navigation\">\n",
      "<h2 class=\"block__title block-title\">User menu secondary</h2>\n",
      "<ul class=\"menu\"><li class=\"menu__item is-leaf first leaf\" id=\"nav-my-account\"><a class=\"menu__link\" href=\"/user\" title=\"\">My account</a></li>\n",
      "<li class=\"menu__item is-leaf leaf\" id=\"nav-register\"><a class=\"menu__link\" href=\"/user/register\" title=\"\">Register</a></li>\n",
      "<li class=\"menu__item is-leaf last leaf\" id=\"nav-forgot-password\"><a class=\"menu__link\" href=\"/user/password\" title=\"\">Forgot password</a></li>\n",
      "</ul>\n",
      "</div>\n",
      "<div class=\"block block-boxes block-boxes-simple last even\" id=\"block-boxes-swellnet-footer-colophon\">\n",
      "<div class=\"boxes-box\" id=\"boxes-box-swellnet_footer_colophon\"><div class=\"boxes-box-content\"><img src=\"//www.swellnet.com/profiles/swellnet/themes/swellzen/images/swellnet-logo-white.png\" title=\"Swellnet\"/>\n",
      "<p>© Swellnet 2016. All rights reserved.</p></div></div>\n",
      "</div>\n",
      "</div>\n",
      "</footer>\n",
      "<script type=\"text/javascript\">\n",
      "  var _sf_async_config=Drupal.settings.chartbeat;\n",
      "  (function(){\n",
      "    function loadChartbeat() {\n",
      "      window._sf_endpt=(new Date()).getTime();\n",
      "      var e = document.createElement('script');\n",
      "      e.setAttribute('language', 'javascript');\n",
      "      e.setAttribute('type', 'text/javascript');\n",
      "      e.setAttribute('src',\n",
      "         ((\"https:\" == document.location.protocol) ? \"https://s3.amazonaws.com/\" : \"http://\") +\n",
      "         \"static.chartbeat.com/js/chartbeat.js\");\n",
      "      document.body.appendChild(e);\n",
      "    }\n",
      "    var oldonload = window.onload;\n",
      "    window.onload = (typeof window.onload != 'function') ?\n",
      "       loadChartbeat : function() { oldonload(); loadChartbeat(); };\n",
      "  })();\n",
      "</script>\n",
      "<!-- Begin MCN ad code -->\n",
      "<script type=\"text/javascript\">\n",
      "    (function(){var e=document.createElement(\"script\"),protocol = \"https:\" == document.location.protocol ? \"https:\" : \"http:\";e.async=true;e.src=protocol+\"//medrx.sensis.com.au/mcn/cube.min.js\";var n=document.getElementsByTagName(\"script\")[0];n.parentNode.insertBefore(e,n);})();window._mcn={};_mcn.config=[];\n",
      "    _mcn.config.push(function(){\n",
      "      _mcn.publisher(\"swellnet\");\n",
      "      _mcn.amf.postLoadAdCall(true);\n",
      "      _mcn.amf.targeting(\"area\", \"reports/australia/queensland/gold-coast\");\n",
      "    });\n",
      "  </script>\n",
      "<!-- End MCN ad code -->\n",
      "<!-- BEGIN EFFECTIVE MEASURE CODE -->\n",
      "<!-- BEGIN EFFECTIVE MEASURE CODE -->\n",
      "<!-- COPYRIGHT EFFECTIVE MEASURE -->\n",
      "<script type=\"text/javascript\">\n",
      "    //<![CDATA[\n",
      "      (function() {\n",
      "        var em = document.createElement('script'); em.type = 'text/javascript'; em.async = true;\n",
      "        em.src = ('https:' == document.location.protocol ? 'https://au-ssl' : 'http://au-cdn') + '.effectivemeasure.net/em.js';\n",
      "        var s = document.getElementsByTagName('script')[0]; s.parentNode.insertBefore(em, s);\n",
      "      })();\n",
      "    //]]>\n",
      "  </script>\n",
      "<noscript>\n",
      "<img alt=\"\" src=\"//au.effectivemeasure.net/em_image\" style=\"position:absolute; left:-5px;\"/>\n",
      "</noscript>\n",
      "<!-- END EFFECTIVE MEASURE CODE -->\n",
      "<!-- START Nielsen Online SiteCensus V6.0 -->\n",
      "<!-- COPYRIGHT 2012 Nielsen Online -->\n",
      "<script src=\"//secure-au.imrworldwide.com/v60.js\" type=\"text/javascript\"></script>\n",
      "<script type=\"text/javascript\">\n",
      "    //<![CDATA[\n",
      "      //\n",
      "        var pvar = { cid: \"mcn\", content: \"swellnet\", server: \"secure-au\" };  var trac = nol_t(pvar);  trac.record().post();\n",
      "      //\n",
      "    //]]>\n",
      "  </script>\n",
      "<noscript>\n",
      "<div>\n",
      "<img alt=\"\" height=\"1\" src=\"//secure-au.imrworldwide.com/cgi-bin/m?ci=mcn&amp;cg=swellnet&amp;cc=1&amp;ts=noscript\" width=\"1\"/>\n",
      "</div>\n",
      "</noscript>\n",
      "<!-- END Nielsen Online SiteCensus V6.0 -->\n",
      "<script src=\"/profiles/swellnet/themes/zen/../swellzen/js/lib/mustache/mustache.js\"></script>\n",
      "<script src=\"/profiles/swellnet/themes/zen/../swellzen/js/dropdown-menu.js\"></script>\n",
      "<link href=\"/profiles/swellnet/themes/zen/../swellzen/css/jumboMenu.css\" rel=\"stylesheet\">\n",
      "</link></body>\n",
      "</html>\n",
      "\n"
     ]
    }
   ],
   "source": [
    "print(parser)"
   ]
  },
  {
   "cell_type": "code",
   "execution_count": 39,
   "metadata": {
    "collapsed": false
   },
   "outputs": [],
   "source": [
    "report_section = parser.select(\".field-content\")"
   ]
  },
  {
   "cell_type": "code",
   "execution_count": 40,
   "metadata": {
    "collapsed": false
   },
   "outputs": [
    {
     "data": {
      "text/plain": [
       "[<span class=\"field-content\">Gold Coast</span>,\n",
       " <span class=\"field-content\">2016-12-05 14:05:00</span>,\n",
       " <span class=\"field-content\">choppy 2ft NNE   </span>,\n",
       " <span class=\"field-content\">Fresh NNE</span>,\n",
       " <span class=\"field-content\">fine</span>,\n",
       " <span class=\"field-content\">2/10</span>,\n",
       " <div class=\"field-content\"><p>Afternoon report: As per the last few afternoons the northerly windswell is on the build again with the afternoon breeze.</p>\\n</div>,\n",
       " <span class=\"field-content\">2016-12-05 07:51:00:</span>,\n",
       " <span class=\"field-content\">choppy 1-1.5ft NE,   </span>,\n",
       " <span class=\"field-content\">Moderate NE,</span>,\n",
       " <span class=\"field-content\">partly cloudy</span>,\n",
       " <span class=\"field-content\">2/10</span>,\n",
       " <div class=\"field-content\"><p>Only 1-1.5ft of windswell on offer at exposed locations and with the wind up blowing fairly strong from the NE it's not looking very inviting. Really only for the groms or the learners. Enjoy your day.</p></div>,\n",
       " <span class=\"field-content\">2016-12-05 04:13:00:</span>,\n",
       " <span class=\"field-content\">peaky 1-2ft NE,   </span>,\n",
       " <span class=\"field-content\">Light N,</span>,\n",
       " <span class=\"field-content\">fine</span>,\n",
       " <span class=\"field-content\">2/10</span>,\n",
       " <div class=\"field-content\"><p>Dawn report: It's like a broken record 'round here, small NE windswell and light N'ly winds ahead of a freshening trend during the day. Not much to get excited about but there are some small peaks for the grommets.\\xa0Tune back in for the updated photo report around 8am.</p>\\n</div>,\n",
       " <div class=\"field-content\"><div class=\"field field-name-field-surf-report-images field-type-file field-label-hidden\"><div class=\"field-items\"><div class=\"field-item even\"><a class=\"fresco\" data-fresco-group=\"unique_name\" data-fresco-group-options=\"thumbnails:false\" href=\"http://www.swellnet.com/sites/default/files/styles/swellnet_large_1000x667/public/surf-reports/images/img_1505_0.jpg?itok=NmY4fvQe\"><div class=\"ds-1col file file-image file-image-jpeg view-mode-gallery_teaser_postcard clearfix\">\\n<img alt=\"\" height=\"218\" src=\"http://www.swellnet.com/sites/default/files/styles/swellnet_postcard_330x218/public/surf-reports/images/img_1505_0.jpg?itok=UOCY5cB-\" width=\"330\"/></div>\\n</a></div></div></div></div>,\n",
       " <span class=\"field-content\"><a href=\"/reports/australia/new-south-wales/ballina\">Ballina</a></span>,\n",
       " <span class=\"field-content\"><a href=\"/reports/australia/new-south-wales/yamba\">Yamba</a></span>,\n",
       " <span class=\"field-content\"><a href=\"/reports/australia/queensland/sunshine-coast\">Sunshine Coast</a></span>,\n",
       " <span class=\"field-content\"><a href=\"/surfcams/burleigh-heads\"><img alt=\"Burleigh Heads\" src=\"http://static.swellnet.com.au/images/surfcams/burleigh-heads-thumb.jpg\" title=\"Burleigh Heads\"/></a></span>,\n",
       " <span class=\"field-content\"><a href=\"/surfcams/burleigh-heads\">Burleigh Heads</a></span>,\n",
       " <span class=\"field-content\">4.86302231413628</span>,\n",
       " <span class=\"field-content\"><a href=\"/surfcams/greenmount\"><img alt=\"Greenmount\" src=\"http://static.swellnet.com.au/images/surfcams/greenmount-thumb.jpg\" title=\"Greenmount\"/></a></span>,\n",
       " <span class=\"field-content\"><a href=\"/surfcams/greenmount\">Greenmount</a></span>,\n",
       " <span class=\"field-content\">12.45182885713013</span>,\n",
       " <span class=\"field-content\"><a href=\"/surfcams/snapper-rocks\"><img alt=\"Snapper Rocks\" src=\"http://static.swellnet.com.au/images/surfcams/snapper-rocks-thumb.jpg\" title=\"Snapper Rocks\"/></a></span>,\n",
       " <span class=\"field-content\"><a href=\"/surfcams/snapper-rocks\">Snapper Rocks</a></span>,\n",
       " <span class=\"field-content\">12.53219647665651</span>,\n",
       " <span class=\"field-content\"><a href=\"/surfcams/duranbah\"><img alt=\"Duranbah\" src=\"http://static.swellnet.com.au/images/surfcams/duranbah-thumb.jpg\" title=\"Duranbah\"/></a></span>,\n",
       " <span class=\"field-content\"><a href=\"/surfcams/duranbah\">Duranbah</a></span>,\n",
       " <span class=\"field-content\">13.76547396984851</span>]"
      ]
     },
     "execution_count": 40,
     "metadata": {},
     "output_type": "execute_result"
    }
   ],
   "source": [
    "report_section"
   ]
  },
  {
   "cell_type": "code",
   "execution_count": 41,
   "metadata": {
    "collapsed": true
   },
   "outputs": [],
   "source": [
    "report_labels = parser.select(\".views-label\")"
   ]
  },
  {
   "cell_type": "code",
   "execution_count": 46,
   "metadata": {
    "collapsed": false
   },
   "outputs": [
    {
     "name": "stdout",
     "output_type": "stream",
     "text": [
      "Rating: \n"
     ]
    }
   ],
   "source": [
    "print(report_labels[4].text)"
   ]
  },
  {
   "cell_type": "code",
   "execution_count": 47,
   "metadata": {
    "collapsed": false
   },
   "outputs": [
    {
     "data": {
      "text/plain": [
       "[<span class=\"views-label views-label-field-surf-report-date\">Updated: </span>,\n",
       " <span class=\"views-label views-label-nothing\">Surf: </span>,\n",
       " <span class=\"views-label views-label-field-surf-report-wind\">Winds: </span>,\n",
       " <span class=\"views-label views-label-field-surf-report-weather\">Weather: </span>,\n",
       " <span class=\"views-label views-label-field-surf-report-rating\">Rating: </span>]"
      ]
     },
     "execution_count": 47,
     "metadata": {},
     "output_type": "execute_result"
    }
   ],
   "source": [
    "report_labels"
   ]
  },
  {
   "cell_type": "code",
   "execution_count": 95,
   "metadata": {
    "collapsed": true
   },
   "outputs": [],
   "source": [
    "rating_label = parser.select(\".views-field-field-surf-report-rating\")\n",
    "# This narrows down to raitings"
   ]
  },
  {
   "cell_type": "code",
   "execution_count": 57,
   "metadata": {
    "collapsed": false
   },
   "outputs": [
    {
     "data": {
      "text/plain": [
       "[<span class=\"views-field views-field-field-surf-report-rating\"> <span class=\"views-label views-label-field-surf-report-rating\">Rating: </span> <span class=\"field-content\">2/10</span> </span>,\n",
       " <span class=\"views-field views-field-field-surf-report-rating\"> <span class=\"field-content\">3/10</span> </span>,\n",
       " <span class=\"views-field views-field-field-surf-report-rating\"> <span class=\"field-content\">2/10</span> </span>]"
      ]
     },
     "execution_count": 57,
     "metadata": {},
     "output_type": "execute_result"
    }
   ],
   "source": [
    "rating_label"
   ]
  },
  {
   "cell_type": "code",
   "execution_count": 65,
   "metadata": {
    "collapsed": false
   },
   "outputs": [
    {
     "data": {
      "text/plain": [
       "<span class=\"field-content\">3/10</span>"
      ]
     },
     "execution_count": 65,
     "metadata": {},
     "output_type": "execute_result"
    }
   ],
   "source": [
    "rating_all = rating_label[1].select(\".field-content\")\n",
    "rating_all[0]"
   ]
  },
  {
   "cell_type": "code",
   "execution_count": 62,
   "metadata": {
    "collapsed": false
   },
   "outputs": [
    {
     "data": {
      "text/plain": [
       "list"
      ]
     },
     "execution_count": 62,
     "metadata": {},
     "output_type": "execute_result"
    }
   ],
   "source": [
    "type(rating_label)"
   ]
  },
  {
   "cell_type": "code",
   "execution_count": 63,
   "metadata": {
    "collapsed": false
   },
   "outputs": [
    {
     "data": {
      "text/plain": [
       "3"
      ]
     },
     "execution_count": 63,
     "metadata": {},
     "output_type": "execute_result"
    }
   ],
   "source": [
    "len(rating_label)"
   ]
  },
  {
   "cell_type": "code",
   "execution_count": 97,
   "metadata": {
    "collapsed": false
   },
   "outputs": [
    {
     "name": "stdout",
     "output_type": "stream",
     "text": [
      "Today's ratings are:\n",
      "2016-12-05 07:27:00\n",
      "1/10\n"
     ]
    }
   ],
   "source": [
    "print(\"Today's ratings are:\")\n",
    "for rating in xrange(0,len(rating_label)):\n",
    "    time = report_times[rating].select(\".field-content\")[0].text\n",
    "    rating = rating_label[rating].select(\".field-content\")[0].text\n",
    "    print(time)\n",
    "    print(rating)"
   ]
  },
  {
   "cell_type": "code",
   "execution_count": 72,
   "metadata": {
    "collapsed": false
   },
   "outputs": [
    {
     "data": {
      "text/plain": [
       "xrange(1, 3)"
      ]
     },
     "execution_count": 72,
     "metadata": {},
     "output_type": "execute_result"
    }
   ],
   "source": [
    "xrange(1parser = BeautifulSoup(content, 'html.parser'),len(rating_label))"
   ]
  },
  {
   "cell_type": "code",
   "execution_count": 73,
   "metadata": {
    "collapsed": false
   },
   "outputs": [
    {
     "name": "stdout",
     "output_type": "stream",
     "text": [
      "<type 'xrange'>\n"
     ]
    }
   ],
   "source": [
    "print xrange"
   ]
  },
  {
   "cell_type": "code",
   "execution_count": 96,
   "metadata": {
    "collapsed": false
   },
   "outputs": [
    {
     "data": {
      "text/plain": [
       "[<span class=\"views-field views-field-field-surf-report-date\"> <span class=\"views-label views-label-field-surf-report-date\">Updated: </span> <span class=\"field-content\">2016-12-05 07:27:00</span> </span>]"
      ]
     },
     "execution_count": 96,
     "metadata": {},
     "output_type": "execute_result"
    }
   ],
   "source": [
    "report_times = parser.select(\".views-field-field-surf-report-date\")\n",
    "report_times"
   ]
  },
  {
   "cell_type": "code",
   "execution_count": 83,
   "metadata": {
    "collapsed": false
   },
   "outputs": [
    {
     "data": {
      "text/plain": [
       "u'2016-12-05 14:56:00'"
      ]
     },
     "execution_count": 83,
     "metadata": {},
     "output_type": "execute_result"
    }
   ],
   "source": [
    "report_times[0].select(\".field-content\")[0].text"
   ]
  },
  {
   "cell_type": "code",
   "execution_count": 103,
   "metadata": {
    "collapsed": false
   },
   "outputs": [],
   "source": [
    "def getRating(swellnet_website):\n",
    "    response = requests.get(swellnet_website)\n",
    "    content = response.content\n",
    "    parser = BeautifulSoup(content, 'html.parser')\n",
    "    rating_label = parser.select(\".views-field-field-surf-report-rating\")\n",
    "    report_times = parser.select(\".views-field-field-surf-report-date\")\n",
    "    \n",
    "    print(\"Today's ratings are:\")\n",
    "    \n",
    "    for rating in xrange(0,len(rating_label)):\n",
    "        time = report_times[rating].select(\".field-content\")[0].text\n",
    "        rating = rating_label[rating].select(\".field-content\")[0].text\n",
    "        print(time)\n",
    "        print(rating)"
   ]
  },
  {
   "cell_type": "code",
   "execution_count": 108,
   "metadata": {
    "collapsed": false
   },
   "outputs": [
    {
     "name": "stdout",
     "output_type": "stream",
     "text": [
      "Today's ratings are:\n",
      "2016-12-06 12:41:00\n",
      "3/10\n",
      "2016-12-06 08:06:00:\n",
      "2/10\n",
      "2016-12-06 04:35:00:\n",
      "3/10\n"
     ]
    }
   ],
   "source": [
    "getRating('http://www.swellnet.com/reports/australia/queensland/gold-coast')"
   ]
  },
  {
   "cell_type": "code",
   "execution_count": null,
   "metadata": {
    "collapsed": true
   },
   "outputs": [],
   "source": [
    ""
   ]
  }
 ],
 "metadata": {
  "anaconda-cloud": {},
  "kernelspec": {
   "display_name": "Python [conda root]",
   "language": "python",
   "name": "conda-root-py"
  },
  "language_info": {
   "codemirror_mode": {
    "name": "ipython",
    "version": 2.0
   },
   "file_extension": ".py",
   "mimetype": "text/x-python",
   "name": "python",
   "nbconvert_exporter": "python",
   "pygments_lexer": "ipython2",
   "version": "2.7.12"
  }
 },
 "nbformat": 4,
 "nbformat_minor": 0
}